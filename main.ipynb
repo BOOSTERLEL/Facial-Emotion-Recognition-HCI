{
 "cells": [
  {
   "cell_type": "markdown",
   "id": "cb16ed5fe23e8c25",
   "metadata": {},
   "source": [
    "# Facial-Emotion-Recogntion-HCL"
   ]
  },
  {
   "cell_type": "markdown",
   "id": "c49bf76f5eb3f241",
   "metadata": {},
   "source": [
    "## Environment\n",
    "\n",
    "### System\n",
    "\n",
    "- Os: Windows 11 64bit\n",
    "- Python: 3.11.9\n",
    "\n",
    "### Package\n",
    "\n",
    "- pytorch: cu126 \n",
    "- ipykernel: 6.29.5\n",
    "- pandas: 2.2.2\n",
    "- Pillow: 10.3.0\n",
    "- tqdm: 4.66.4\n",
    "- opencv-python: 4.11.0\n",
    "- albumentations: 2.06"
   ]
  },
  {
   "cell_type": "markdown",
   "id": "bb620b1c91ec022d",
   "metadata": {},
   "source": [
    "### Import libraries"
   ]
  },
  {
   "metadata": {},
   "cell_type": "code",
   "source": [
    "import torch\n",
    "import gc\n",
    "\n",
    "import scripts.augment as sa\n",
    "import scripts.preprocessing as sp\n",
    "import scripts.evaluate as ev\n",
    "import scripts.model as md\n",
    "import scripts.backbone as b"
   ],
   "id": "4ad6eb058eadc563",
   "outputs": [],
   "execution_count": null
  },
  {
   "cell_type": "markdown",
   "id": "62aff0cafbbe021d",
   "metadata": {},
   "source": [
    "### Define constant"
   ]
  },
  {
   "metadata": {},
   "cell_type": "code",
   "source": [
    "# === Define paths ===\n",
    "affectnet_raw_path = \"./data/affectnet/\" \n",
    "processed_root_path = \"./data/processed/\"  \n",
    "processed_metadata_csv = \"./data/processed/train.csv\"  \n",
    "augmented_root_path = \"./data/augmented/\"  \n",
    "augmented_metadata_csv = \"./data/augmented/train.csv\"  \n",
    "\n",
    "# === Define preprocessing & augmentation parameters ===\n",
    "img_size = (224, 224)   \n",
    "rename_images = True   \n",
    "dry_run = False       \n",
    "augment_target_per_class = 8000    \n",
    "augment_severity = \"medium\"        "
   ],
   "id": "fd61e6492671168c",
   "outputs": [],
   "execution_count": null
  },
  {
   "cell_type": "markdown",
   "id": "919484768b8297ad",
   "metadata": {},
   "source": [
    "### Data preprocessing"
   ]
  },
  {
   "cell_type": "code",
   "id": "d3540934f4e9f296",
   "metadata": {},
   "source": [
    "# Preprocess affectnet data\n",
    "processed_affectnet = sp.process_affectnet(\n",
    "    affectnet_root=affectnet_raw_path,\n",
    "    processed_root=processed_root_path,\n",
    "    img_size=img_size,\n",
    "    rename=rename_images,\n",
    "    rename_width=5,\n",
    "    dry_run=dry_run\n",
    ")"
   ],
   "outputs": [],
   "execution_count": null
  },
  {
   "cell_type": "markdown",
   "id": "8d622303fcf5d0e7",
   "metadata": {},
   "source": [
    "### Data augmentation"
   ]
  },
  {
   "metadata": {},
   "cell_type": "code",
   "source": [
    "# Augment affectnet training split\n",
    "augmented_affectnet = sa.augment_affectnet(\n",
    "    processed_root=processed_root_path,\n",
    "    aug_root=augmented_root_path,\n",
    "    target=augment_target_per_class,\n",
    "    severity=augment_severity\n",
    ")"
   ],
   "id": "e326a670b82cddde",
   "outputs": [],
   "execution_count": null
  },
  {
   "metadata": {},
   "cell_type": "markdown",
   "source": "### Model training and evaluate",
   "id": "208f8228580b2fa4"
  },
  {
   "metadata": {},
   "cell_type": "code",
   "source": [
    "device = torch.device(\"mps\")\n",
    "\n",
    "model_configs = [\n",
    "    (\"facebook/deit-small-distilled-patch16-224\", 5),\n",
    "    (\"facebook/deit-base-distilled-patch16-224\", 5),\n",
    "    (\"microsoft/resnet-50\", 5),\n",
    "    (\"microsoft/resnet-152\", 5),\n",
    "    (\"timm/vit_small_patch16_224.augreg_in21k\", 5),\n",
    "    (\"google/vit-base-patch16-224\", 5),\n",
    "]\n",
    "\n",
    "# Load data once\n",
    "data_loaders = ev.load_affectnet_data(augmented_metadata_csv)\n",
    "train_loader = data_loaders['train_loader']\n",
    "val_loader = data_loaders['val_loader']\n",
    "test_loader = data_loaders['test_loader']\n",
    "\n",
    "# Iterate and train each backbone + hybrid classifier\n",
    "for model_name, epochs in model_configs:\n",
    "    print(f\"\\n=== Training pipeline for {model_name} ===\")\n",
    "    # 1. Instantiate and fine-tune backbone\n",
    "    backbone = b.VisionFeatureExtractor(model_name=model_name, device=device)\n",
    "    print(f\"Fine-tuning {model_name}...\")\n",
    "\n",
    "    backbone.finetune(\n",
    "        train_loader,\n",
    "        val_loader,\n",
    "        num_classes=8,\n",
    "        epochs=epochs,\n",
    "        learning_rate=2e-5,\n",
    "        weight_decay=0.01\n",
    "    )\n",
    "\n",
    "    # Clear unused memory to prevent OOM\n",
    "    del backbone.classification_model\n",
    "    torch.cuda.empty_cache()\n",
    "    gc.collect()\n",
    "\n",
    "    # 2. Train hybrid classifier\n",
    "    classifier = md.LightGBMClassifier()\n",
    "    hybrid_model = md.HybridEmotionClassifier(backbone, classifier)\n",
    "    print(f\"Training hybrid model for {model_name}...\")\n",
    "    hybrid_model.train(train_loader, val_loader)\n",
    "\n",
    "    # 3. Evaluate on test set\n",
    "    print(f\"Evaluating hybrid model for {model_name}...\")\n",
    "    hybrid_model.evaluate(test_loader)\n",
    "\n",
    "    # 4. Save and cleanup\n",
    "    save_path = f\"models/{model_name.replace('/', '_')}\"\n",
    "    hybrid_model.save(save_path)\n",
    "    print(f\"Saved model to {save_path}\")\n",
    "\n",
    "    # Cleanup GPU memory\n",
    "    del backbone\n",
    "    del hybrid_model\n",
    "    torch.cuda.empty_cache()\n",
    "    gc.collect()\n",
    "\n",
    "print(\"All models trained and saved successfully.\")"
   ],
   "id": "6ecbf78ebead20a3",
   "outputs": [],
   "execution_count": null
  },
  {
   "metadata": {},
   "cell_type": "code",
   "source": "",
   "id": "382114f688ea70f7",
   "outputs": [],
   "execution_count": null
  }
 ],
 "metadata": {
  "kernelspec": {
   "display_name": "Facial-Emotion-Recognition-HCI",
   "language": "python",
   "name": "python3"
  },
  "language_info": {
   "codemirror_mode": {
    "name": "ipython",
    "version": 3
   },
   "file_extension": ".py",
   "mimetype": "text/x-python",
   "name": "python",
   "nbconvert_exporter": "python",
   "pygments_lexer": "ipython3",
   "version": "3.11.9"
  }
 },
 "nbformat": 4,
 "nbformat_minor": 5
}
